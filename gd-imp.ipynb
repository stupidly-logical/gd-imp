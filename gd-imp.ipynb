{
  "nbformat": 4,
  "nbformat_minor": 0,
  "metadata": {
    "colab": {
      "name": "GDrive_Bulk_Import.ipynb",
      "provenance": [],
      "collapsed_sections": []
    },
    "kernelspec": {
      "name": "python3",
      "display_name": "Python 3"
    }
  },
  "cells": [
    {
      "cell_type": "markdown",
      "metadata": {
        "id": "aYcvf9tA0sIq",
        "colab_type": "text"
      },
      "source": [
        "Import the drive library and mount"
      ]
    },
    {
      "cell_type": "code",
      "execution_count": null,
      "metadata": {
        "colab": {
          "base_uri": "https://localhost:8080/",
          "height": 124
        },
        "colab_type": "code",
        "id": "Urf9JoE_xv5T",
        "outputId": "65a7c7a6-ee55-4e2d-b398-ba8b697b687c"
      },
      "outputs": [],
      "source": [
        "from google.colab import drive\n",
        "drive.mount('/gdrive')"
      ]
    },
    {
      "cell_type": "markdown",
      "metadata": {
        "id": "PjapGxOn01Ed",
        "colab_type": "text"
      },
      "source": [
        "Write all the folders to a files, make sure there are no conflicts"
      ]
    },
    {
      "cell_type": "code",
      "metadata": {
        "id": "26kEL2xQyugp",
        "colab_type": "code",
        "colab": {}
      },
      "source": [
        "!ls -Fal > contents.txt"
      ],
      "execution_count": null,
      "outputs": []
    },
    {
      "cell_type": "markdown",
      "metadata": {
        "id": "42mcLY_907_o",
        "colab_type": "text"
      },
      "source": [
        "Get folder names and their paths."
      ]
    },
    {
      "cell_type": "code",
      "metadata": {
        "id": "XP91jNTuaVj1",
        "colab_type": "code",
        "colab": {
          "base_uri": "https://localhost:8080/",
          "height": 72
        },
        "outputId": "16dbbf9e-9172-44e7-944a-717432296c06"
      },
      "source": [
        "folder_paths = []\n",
        "folder_names = []\n",
        "\n",
        "with open('contents.txt', 'r') as f:\n",
        "  for row in f:\n",
        "    if '->' in row:\n",
        "      path = row.split('-> ')[1]\n",
        "      folder_paths.append(path[:-2])\n",
        "      name = path.split('/')[-2]\n",
        "      folder_names.append(r\"{}\".format(name))\n",
        "\n",
        "print(folder_paths)\n",
        "print(folder_names)"
      ],
      "execution_count": null,
      "outputs": []
    },
    {
      "cell_type": "markdown",
      "metadata": {
        "id": "nxfMlTQN1Kuk",
        "colab_type": "text"
      },
      "source": [
        "Create a folder in your drive where you want to store the imported folders. Good idea to keep them in a seperate folder for ***isolation***"
      ]
    },
    {
      "cell_type": "code",
      "metadata": {
        "id": "iLRZeSx5bUne",
        "colab_type": "code",
        "colab": {}
      },
      "source": [
        "mkdir imported"
      ],
      "execution_count": null,
      "outputs": []
    },
    {
      "cell_type": "markdown",
      "metadata": {
        "id": "OLz9W5nH1aCO",
        "colab_type": "text"
      },
      "source": [
        "Finally copy the folders using their symbolic links to the folder you created"
      ]
    },
    {
      "cell_type": "code",
      "metadata": {
        "id": "YUxg3Z8MCYRJ",
        "colab_type": "code",
        "colab": {}
      },
      "source": [
        "for path, name in zip(folder_paths, folder_names):\n",
        "  rp = r\"{}\".format(path)\n",
        "  tp = r\"{}\".format('/gdrive/My\\ Drive/imported/'+name)\n",
        "  !mkdir $tp\n",
        "  !cp -r $rp $tp"
      ],
      "execution_count": null,
      "outputs": []
    }
  ]
}